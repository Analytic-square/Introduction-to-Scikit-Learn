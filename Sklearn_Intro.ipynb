{
 "cells": [
  {
   "cell_type": "code",
   "execution_count": 1,
   "id": "f82a1082",
   "metadata": {},
   "outputs": [
    {
     "name": "stdout",
     "output_type": "stream",
     "text": [
      "[0 0 0 0 0 0 0 0 0 0]\n"
     ]
    },
    {
     "data": {
      "text/html": [
       "<div>\n",
       "<style scoped>\n",
       "    .dataframe tbody tr th:only-of-type {\n",
       "        vertical-align: middle;\n",
       "    }\n",
       "\n",
       "    .dataframe tbody tr th {\n",
       "        vertical-align: top;\n",
       "    }\n",
       "\n",
       "    .dataframe thead th {\n",
       "        text-align: right;\n",
       "    }\n",
       "</style>\n",
       "<table border=\"1\" class=\"dataframe\">\n",
       "  <thead>\n",
       "    <tr style=\"text-align: right;\">\n",
       "      <th></th>\n",
       "      <th>alcohol</th>\n",
       "      <th>malic_acid</th>\n",
       "      <th>ash</th>\n",
       "      <th>alcalinity_of_ash</th>\n",
       "      <th>magnesium</th>\n",
       "      <th>total_phenols</th>\n",
       "      <th>flavanoids</th>\n",
       "      <th>nonflavanoid_phenols</th>\n",
       "      <th>proanthocyanins</th>\n",
       "      <th>color_intensity</th>\n",
       "      <th>hue</th>\n",
       "      <th>od280/od315_of_diluted_wines</th>\n",
       "      <th>proline</th>\n",
       "    </tr>\n",
       "  </thead>\n",
       "  <tbody>\n",
       "    <tr>\n",
       "      <th>0</th>\n",
       "      <td>14.23</td>\n",
       "      <td>1.71</td>\n",
       "      <td>2.43</td>\n",
       "      <td>15.6</td>\n",
       "      <td>127.0</td>\n",
       "      <td>2.80</td>\n",
       "      <td>3.06</td>\n",
       "      <td>0.28</td>\n",
       "      <td>2.29</td>\n",
       "      <td>5.64</td>\n",
       "      <td>1.04</td>\n",
       "      <td>3.92</td>\n",
       "      <td>1065.0</td>\n",
       "    </tr>\n",
       "    <tr>\n",
       "      <th>1</th>\n",
       "      <td>13.20</td>\n",
       "      <td>1.78</td>\n",
       "      <td>2.14</td>\n",
       "      <td>11.2</td>\n",
       "      <td>100.0</td>\n",
       "      <td>2.65</td>\n",
       "      <td>2.76</td>\n",
       "      <td>0.26</td>\n",
       "      <td>1.28</td>\n",
       "      <td>4.38</td>\n",
       "      <td>1.05</td>\n",
       "      <td>3.40</td>\n",
       "      <td>1050.0</td>\n",
       "    </tr>\n",
       "    <tr>\n",
       "      <th>2</th>\n",
       "      <td>13.16</td>\n",
       "      <td>2.36</td>\n",
       "      <td>2.67</td>\n",
       "      <td>18.6</td>\n",
       "      <td>101.0</td>\n",
       "      <td>2.80</td>\n",
       "      <td>3.24</td>\n",
       "      <td>0.30</td>\n",
       "      <td>2.81</td>\n",
       "      <td>5.68</td>\n",
       "      <td>1.03</td>\n",
       "      <td>3.17</td>\n",
       "      <td>1185.0</td>\n",
       "    </tr>\n",
       "    <tr>\n",
       "      <th>3</th>\n",
       "      <td>14.37</td>\n",
       "      <td>1.95</td>\n",
       "      <td>2.50</td>\n",
       "      <td>16.8</td>\n",
       "      <td>113.0</td>\n",
       "      <td>3.85</td>\n",
       "      <td>3.49</td>\n",
       "      <td>0.24</td>\n",
       "      <td>2.18</td>\n",
       "      <td>7.80</td>\n",
       "      <td>0.86</td>\n",
       "      <td>3.45</td>\n",
       "      <td>1480.0</td>\n",
       "    </tr>\n",
       "    <tr>\n",
       "      <th>4</th>\n",
       "      <td>13.24</td>\n",
       "      <td>2.59</td>\n",
       "      <td>2.87</td>\n",
       "      <td>21.0</td>\n",
       "      <td>118.0</td>\n",
       "      <td>2.80</td>\n",
       "      <td>2.69</td>\n",
       "      <td>0.39</td>\n",
       "      <td>1.82</td>\n",
       "      <td>4.32</td>\n",
       "      <td>1.04</td>\n",
       "      <td>2.93</td>\n",
       "      <td>735.0</td>\n",
       "    </tr>\n",
       "  </tbody>\n",
       "</table>\n",
       "</div>"
      ],
      "text/plain": [
       "   alcohol  malic_acid   ash  alcalinity_of_ash  magnesium  total_phenols  \\\n",
       "0    14.23        1.71  2.43               15.6      127.0           2.80   \n",
       "1    13.20        1.78  2.14               11.2      100.0           2.65   \n",
       "2    13.16        2.36  2.67               18.6      101.0           2.80   \n",
       "3    14.37        1.95  2.50               16.8      113.0           3.85   \n",
       "4    13.24        2.59  2.87               21.0      118.0           2.80   \n",
       "\n",
       "   flavanoids  nonflavanoid_phenols  proanthocyanins  color_intensity   hue  \\\n",
       "0        3.06                  0.28             2.29             5.64  1.04   \n",
       "1        2.76                  0.26             1.28             4.38  1.05   \n",
       "2        3.24                  0.30             2.81             5.68  1.03   \n",
       "3        3.49                  0.24             2.18             7.80  0.86   \n",
       "4        2.69                  0.39             1.82             4.32  1.04   \n",
       "\n",
       "   od280/od315_of_diluted_wines  proline  \n",
       "0                          3.92   1065.0  \n",
       "1                          3.40   1050.0  \n",
       "2                          3.17   1185.0  \n",
       "3                          3.45   1480.0  \n",
       "4                          2.93    735.0  "
      ]
     },
     "execution_count": 1,
     "metadata": {},
     "output_type": "execute_result"
    }
   ],
   "source": [
    "from sklearn import datasets\n",
    "import pandas as pd\n",
    "import numpy as np\n",
    "\n",
    "wine = datasets.load_wine()\n",
    "\n",
    "data = pd.DataFrame(data= wine['data'],\n",
    "                    columns= wine['feature_names'])\n",
    "\n",
    "y = wine['target']\n",
    "print(y[:10])\n",
    "data.head()"
   ]
  },
  {
   "cell_type": "code",
   "execution_count": 2,
   "id": "bc6026e8",
   "metadata": {},
   "outputs": [
    {
     "name": "stdout",
     "output_type": "stream",
     "text": [
      "X train shape (35, 13) \n",
      "X test shape (143, 13)\n"
     ]
    }
   ],
   "source": [
    "from sklearn.model_selection import train_test_split\n",
    "\n",
    "X_train, X_test, y_train, y_test = train_test_split(data, y, \n",
    "                                                    test_size = 0.8,\n",
    "                                                    random_state = 1234)\n",
    "\n",
    "print(f'X train shape {X_train.shape} \\nX test shape {X_test.shape}')"
   ]
  },
  {
   "cell_type": "code",
   "execution_count": 3,
   "id": "7c871b90",
   "metadata": {},
   "outputs": [
    {
     "data": {
      "text/plain": [
       "alcohol                         0\n",
       "malic_acid                      0\n",
       "ash                             0\n",
       "alcalinity_of_ash               0\n",
       "magnesium                       0\n",
       "total_phenols                   0\n",
       "flavanoids                      0\n",
       "nonflavanoid_phenols            0\n",
       "proanthocyanins                 0\n",
       "color_intensity                 0\n",
       "hue                             0\n",
       "od280/od315_of_diluted_wines    0\n",
       "proline                         0\n",
       "dtype: int64"
      ]
     },
     "execution_count": 3,
     "metadata": {},
     "output_type": "execute_result"
    }
   ],
   "source": [
    "X_train.isna().sum()"
   ]
  },
  {
   "cell_type": "code",
   "execution_count": 4,
   "id": "5e55ba86",
   "metadata": {},
   "outputs": [
    {
     "data": {
      "text/plain": [
       "alcohol                         4\n",
       "malic_acid                      4\n",
       "ash                             4\n",
       "alcalinity_of_ash               4\n",
       "magnesium                       4\n",
       "total_phenols                   4\n",
       "flavanoids                      4\n",
       "nonflavanoid_phenols            4\n",
       "proanthocyanins                 4\n",
       "color_intensity                 4\n",
       "hue                             4\n",
       "od280/od315_of_diluted_wines    4\n",
       "proline                         4\n",
       "dtype: int64"
      ]
     },
     "execution_count": 4,
     "metadata": {},
     "output_type": "execute_result"
    }
   ],
   "source": [
    "data_na = X_train.copy()\n",
    "\n",
    "for col in data_na.columns:\n",
    "    data_na.loc[data_na.sample(frac=0.1).index, col] = np.nan\n",
    "\n",
    "data_na.isna().sum()"
   ]
  },
  {
   "cell_type": "code",
   "execution_count": 5,
   "id": "d45b4999",
   "metadata": {},
   "outputs": [
    {
     "data": {
      "text/plain": [
       "alcohol                         0\n",
       "malic_acid                      0\n",
       "ash                             0\n",
       "alcalinity_of_ash               0\n",
       "magnesium                       0\n",
       "total_phenols                   0\n",
       "flavanoids                      0\n",
       "nonflavanoid_phenols            0\n",
       "proanthocyanins                 0\n",
       "color_intensity                 0\n",
       "hue                             0\n",
       "od280/od315_of_diluted_wines    0\n",
       "proline                         0\n",
       "dtype: int64"
      ]
     },
     "execution_count": 5,
     "metadata": {},
     "output_type": "execute_result"
    }
   ],
   "source": [
    "#Univariate Imputation\n",
    "from sklearn.impute import SimpleImputer\n",
    "\n",
    "mode_imputer = SimpleImputer(strategy = 'most_frequent')\n",
    "\n",
    "# For each column, make imputation\n",
    "for column in data_na.columns:\n",
    "    values = data_na[column].values.reshape(-1,1)\n",
    "    mode_imputer.fit(values)\n",
    "    data_na[column] = mode_imputer.transform(values)\n",
    "\n",
    "# Check Nas\n",
    "data_na.isna().sum()"
   ]
  },
  {
   "cell_type": "code",
   "execution_count": 6,
   "id": "f53562c9",
   "metadata": {},
   "outputs": [
    {
     "data": {
      "text/plain": [
       "alcohol                         0\n",
       "malic_acid                      0\n",
       "ash                             0\n",
       "alcalinity_of_ash               0\n",
       "magnesium                       0\n",
       "total_phenols                   0\n",
       "flavanoids                      0\n",
       "nonflavanoid_phenols            0\n",
       "proanthocyanins                 0\n",
       "color_intensity                 0\n",
       "hue                             0\n",
       "od280/od315_of_diluted_wines    0\n",
       "proline                         0\n",
       "dtype: int64"
      ]
     },
     "execution_count": 6,
     "metadata": {},
     "output_type": "execute_result"
    }
   ],
   "source": [
    "from sklearn.experimental import enable_iterative_imputer\n",
    "from sklearn.impute import IterativeImputer \n",
    "\n",
    "data_na = X_train.copy()\n",
    "\n",
    "# Generate new nas\n",
    "for col in data_na.columns:\n",
    "    data_na.loc[data_na.sample(frac=0.1).index, col] = np.nan\n",
    "\n",
    "# Create imputer\n",
    "iter_imputer = IterativeImputer(max_iter=15, random_state=1234)\n",
    "\n",
    "# Transform data\n",
    "iter_imputer_fit = iter_imputer.fit(data_na.values) \n",
    "imputed_data = iter_imputer_fit.transform(data_na)\n",
    "\n",
    "pd.DataFrame(imputed_data, columns = data_na.columns)\\\n",
    "    .isna()\\\n",
    "    .sum()"
   ]
  },
  {
   "cell_type": "code",
   "execution_count": 7,
   "id": "b3e25377",
   "metadata": {},
   "outputs": [
    {
     "data": {
      "text/plain": [
       "alcohol                         0\n",
       "malic_acid                      0\n",
       "ash                             0\n",
       "alcalinity_of_ash               0\n",
       "magnesium                       0\n",
       "total_phenols                   0\n",
       "flavanoids                      0\n",
       "nonflavanoid_phenols            0\n",
       "proanthocyanins                 0\n",
       "color_intensity                 0\n",
       "hue                             0\n",
       "od280/od315_of_diluted_wines    0\n",
       "proline                         0\n",
       "dtype: int64"
      ]
     },
     "execution_count": 7,
     "metadata": {},
     "output_type": "execute_result"
    }
   ],
   "source": [
    "from sklearn.impute import KNNImputer\n",
    "\n",
    "data_na = X_train.copy()\n",
    "\n",
    "# Generate new nas\n",
    "for col in data_na.columns:\n",
    "    data_na.loc[data_na.sample(frac=0.1).index, col] = np.nan\n",
    "\n",
    "# Select k\n",
    "k = int(np.round(np.sqrt(data_na.shape[0])))\n",
    "\n",
    "# Create imputer\n",
    "knn_imputer = KNNImputer(n_neighbors=k)\n",
    "\n",
    "# Transform data\n",
    "knn_imputer_fit = knn_imputer.fit(data_na.values)\n",
    "\n",
    "imputed_data = knn_imputer_fit.transform(data_na)\n",
    "\n",
    "pd.DataFrame(imputed_data, columns = data_na.columns)\\\n",
    "    .isna()\\\n",
    "    .sum()"
   ]
  },
  {
   "cell_type": "code",
   "execution_count": 8,
   "id": "f48d9245",
   "metadata": {},
   "outputs": [
    {
     "data": {
      "text/html": [
       "<div>\n",
       "<style scoped>\n",
       "    .dataframe tbody tr th:only-of-type {\n",
       "        vertical-align: middle;\n",
       "    }\n",
       "\n",
       "    .dataframe tbody tr th {\n",
       "        vertical-align: top;\n",
       "    }\n",
       "\n",
       "    .dataframe thead th {\n",
       "        text-align: right;\n",
       "    }\n",
       "</style>\n",
       "<table border=\"1\" class=\"dataframe\">\n",
       "  <thead>\n",
       "    <tr style=\"text-align: right;\">\n",
       "      <th></th>\n",
       "      <th>alcohol</th>\n",
       "      <th>malic_acid</th>\n",
       "      <th>ash</th>\n",
       "      <th>alcalinity_of_ash</th>\n",
       "      <th>magnesium</th>\n",
       "      <th>total_phenols</th>\n",
       "      <th>flavanoids</th>\n",
       "      <th>nonflavanoid_phenols</th>\n",
       "      <th>proanthocyanins</th>\n",
       "      <th>color_intensity</th>\n",
       "      <th>hue</th>\n",
       "      <th>od280/od315_of_diluted_wines</th>\n",
       "      <th>proline</th>\n",
       "    </tr>\n",
       "  </thead>\n",
       "  <tbody>\n",
       "    <tr>\n",
       "      <th>count</th>\n",
       "      <td>35.000000</td>\n",
       "      <td>35.000000</td>\n",
       "      <td>35.000000</td>\n",
       "      <td>35.000000</td>\n",
       "      <td>35.000000</td>\n",
       "      <td>35.000000</td>\n",
       "      <td>35.000000</td>\n",
       "      <td>35.000000</td>\n",
       "      <td>35.000000</td>\n",
       "      <td>35.000000</td>\n",
       "      <td>35.000000</td>\n",
       "      <td>35.000000</td>\n",
       "      <td>35.000000</td>\n",
       "    </tr>\n",
       "    <tr>\n",
       "      <th>mean</th>\n",
       "      <td>12.904857</td>\n",
       "      <td>2.160000</td>\n",
       "      <td>2.371143</td>\n",
       "      <td>19.174286</td>\n",
       "      <td>98.428571</td>\n",
       "      <td>2.324000</td>\n",
       "      <td>2.072286</td>\n",
       "      <td>0.364571</td>\n",
       "      <td>1.660000</td>\n",
       "      <td>4.777143</td>\n",
       "      <td>0.996857</td>\n",
       "      <td>2.635714</td>\n",
       "      <td>757.714286</td>\n",
       "    </tr>\n",
       "    <tr>\n",
       "      <th>std</th>\n",
       "      <td>0.879199</td>\n",
       "      <td>1.026805</td>\n",
       "      <td>0.311974</td>\n",
       "      <td>3.675142</td>\n",
       "      <td>13.560942</td>\n",
       "      <td>0.614411</td>\n",
       "      <td>0.982162</td>\n",
       "      <td>0.135914</td>\n",
       "      <td>0.688699</td>\n",
       "      <td>2.190065</td>\n",
       "      <td>0.250103</td>\n",
       "      <td>0.645907</td>\n",
       "      <td>361.713778</td>\n",
       "    </tr>\n",
       "    <tr>\n",
       "      <th>min</th>\n",
       "      <td>11.030000</td>\n",
       "      <td>0.900000</td>\n",
       "      <td>1.710000</td>\n",
       "      <td>12.000000</td>\n",
       "      <td>80.000000</td>\n",
       "      <td>0.980000</td>\n",
       "      <td>0.340000</td>\n",
       "      <td>0.140000</td>\n",
       "      <td>0.410000</td>\n",
       "      <td>1.900000</td>\n",
       "      <td>0.570000</td>\n",
       "      <td>1.330000</td>\n",
       "      <td>278.000000</td>\n",
       "    </tr>\n",
       "    <tr>\n",
       "      <th>25%</th>\n",
       "      <td>12.270000</td>\n",
       "      <td>1.555000</td>\n",
       "      <td>2.110000</td>\n",
       "      <td>16.050000</td>\n",
       "      <td>90.000000</td>\n",
       "      <td>1.900000</td>\n",
       "      <td>1.280000</td>\n",
       "      <td>0.270000</td>\n",
       "      <td>1.260000</td>\n",
       "      <td>3.285000</td>\n",
       "      <td>0.870000</td>\n",
       "      <td>2.145000</td>\n",
       "      <td>447.000000</td>\n",
       "    </tr>\n",
       "    <tr>\n",
       "      <th>50%</th>\n",
       "      <td>13.030000</td>\n",
       "      <td>1.800000</td>\n",
       "      <td>2.390000</td>\n",
       "      <td>19.000000</td>\n",
       "      <td>98.000000</td>\n",
       "      <td>2.350000</td>\n",
       "      <td>2.240000</td>\n",
       "      <td>0.320000</td>\n",
       "      <td>1.540000</td>\n",
       "      <td>4.400000</td>\n",
       "      <td>0.960000</td>\n",
       "      <td>2.710000</td>\n",
       "      <td>640.000000</td>\n",
       "    </tr>\n",
       "    <tr>\n",
       "      <th>75%</th>\n",
       "      <td>13.630000</td>\n",
       "      <td>2.540000</td>\n",
       "      <td>2.635000</td>\n",
       "      <td>21.000000</td>\n",
       "      <td>102.500000</td>\n",
       "      <td>2.800000</td>\n",
       "      <td>2.865000</td>\n",
       "      <td>0.490000</td>\n",
       "      <td>2.075000</td>\n",
       "      <td>5.790000</td>\n",
       "      <td>1.185000</td>\n",
       "      <td>3.145000</td>\n",
       "      <td>1057.500000</td>\n",
       "    </tr>\n",
       "    <tr>\n",
       "      <th>max</th>\n",
       "      <td>14.380000</td>\n",
       "      <td>5.040000</td>\n",
       "      <td>2.920000</td>\n",
       "      <td>28.500000</td>\n",
       "      <td>151.000000</td>\n",
       "      <td>3.850000</td>\n",
       "      <td>3.640000</td>\n",
       "      <td>0.630000</td>\n",
       "      <td>2.960000</td>\n",
       "      <td>13.000000</td>\n",
       "      <td>1.710000</td>\n",
       "      <td>3.640000</td>\n",
       "      <td>1547.000000</td>\n",
       "    </tr>\n",
       "  </tbody>\n",
       "</table>\n",
       "</div>"
      ],
      "text/plain": [
       "         alcohol  malic_acid        ash  alcalinity_of_ash   magnesium  \\\n",
       "count  35.000000   35.000000  35.000000          35.000000   35.000000   \n",
       "mean   12.904857    2.160000   2.371143          19.174286   98.428571   \n",
       "std     0.879199    1.026805   0.311974           3.675142   13.560942   \n",
       "min    11.030000    0.900000   1.710000          12.000000   80.000000   \n",
       "25%    12.270000    1.555000   2.110000          16.050000   90.000000   \n",
       "50%    13.030000    1.800000   2.390000          19.000000   98.000000   \n",
       "75%    13.630000    2.540000   2.635000          21.000000  102.500000   \n",
       "max    14.380000    5.040000   2.920000          28.500000  151.000000   \n",
       "\n",
       "       total_phenols  flavanoids  nonflavanoid_phenols  proanthocyanins  \\\n",
       "count      35.000000   35.000000             35.000000        35.000000   \n",
       "mean        2.324000    2.072286              0.364571         1.660000   \n",
       "std         0.614411    0.982162              0.135914         0.688699   \n",
       "min         0.980000    0.340000              0.140000         0.410000   \n",
       "25%         1.900000    1.280000              0.270000         1.260000   \n",
       "50%         2.350000    2.240000              0.320000         1.540000   \n",
       "75%         2.800000    2.865000              0.490000         2.075000   \n",
       "max         3.850000    3.640000              0.630000         2.960000   \n",
       "\n",
       "       color_intensity        hue  od280/od315_of_diluted_wines      proline  \n",
       "count        35.000000  35.000000                     35.000000    35.000000  \n",
       "mean          4.777143   0.996857                      2.635714   757.714286  \n",
       "std           2.190065   0.250103                      0.645907   361.713778  \n",
       "min           1.900000   0.570000                      1.330000   278.000000  \n",
       "25%           3.285000   0.870000                      2.145000   447.000000  \n",
       "50%           4.400000   0.960000                      2.710000   640.000000  \n",
       "75%           5.790000   1.185000                      3.145000  1057.500000  \n",
       "max          13.000000   1.710000                      3.640000  1547.000000  "
      ]
     },
     "execution_count": 8,
     "metadata": {},
     "output_type": "execute_result"
    }
   ],
   "source": [
    "X_train.describe()"
   ]
  },
  {
   "cell_type": "code",
   "execution_count": 9,
   "id": "394d440f",
   "metadata": {},
   "outputs": [
    {
     "data": {
      "text/plain": [
       "array([[<AxesSubplot:title={'center':'alcohol'}>,\n",
       "        <AxesSubplot:title={'center':'malic_acid'}>,\n",
       "        <AxesSubplot:title={'center':'ash'}>,\n",
       "        <AxesSubplot:title={'center':'alcalinity_of_ash'}>],\n",
       "       [<AxesSubplot:title={'center':'magnesium'}>,\n",
       "        <AxesSubplot:title={'center':'total_phenols'}>,\n",
       "        <AxesSubplot:title={'center':'flavanoids'}>,\n",
       "        <AxesSubplot:title={'center':'nonflavanoid_phenols'}>],\n",
       "       [<AxesSubplot:title={'center':'proanthocyanins'}>,\n",
       "        <AxesSubplot:title={'center':'color_intensity'}>,\n",
       "        <AxesSubplot:title={'center':'hue'}>,\n",
       "        <AxesSubplot:title={'center':'od280/od315_of_diluted_wines'}>],\n",
       "       [<AxesSubplot:title={'center':'proline'}>, <AxesSubplot:>,\n",
       "        <AxesSubplot:>, <AxesSubplot:>]], dtype=object)"
      ]
     },
     "execution_count": 9,
     "metadata": {},
     "output_type": "execute_result"
    },
    {
     "data": {
      "image/png": "[encoded data removed]",
      "text/plain": [
       "<Figure size 432x288 with 16 Axes>"
      ]
     },
     "metadata": {
      "needs_background": "light"
     },
     "output_type": "display_data"
    }
   ],
   "source": [
    "%matplotlib inline\n",
    "X_train.hist()"
   ]
  },
  {
   "cell_type": "code",
   "execution_count": 10,
   "id": "d3482377",
   "metadata": {},
   "outputs": [
    {
     "name": "stderr",
     "output_type": "stream",
     "text": [
      "C:\\ProgramData\\Anaconda3\\lib\\site-packages\\sklearn\\preprocessing\\_data.py:2612: UserWarning: n_quantiles (1000) is greater than the total number of samples (35). n_quantiles is set to n_samples.\n",
      "  warnings.warn(\"n_quantiles (%s) is greater than the total number \"\n",
      "C:\\ProgramData\\Anaconda3\\lib\\site-packages\\sklearn\\preprocessing\\_data.py:2612: UserWarning: n_quantiles (1000) is greater than the total number of samples (35). n_quantiles is set to n_samples.\n",
      "  warnings.warn(\"n_quantiles (%s) is greater than the total number \"\n"
     ]
    },
    {
     "data": {
      "text/plain": [
       "(array([4., 4., 3., 3., 3., 3., 4., 4., 3., 4.]),\n",
       " array([0. , 0.1, 0.2, 0.3, 0.4, 0.5, 0.6, 0.7, 0.8, 0.9, 1. ]),\n",
       " <BarContainer object of 10 artists>)"
      ]
     },
     "execution_count": 10,
     "metadata": {},
     "output_type": "execute_result"
    },
    {
     "data": {
      "image/png": "[encoded data removed]",
      "text/plain": [
       "<Figure size 432x288 with 3 Axes>"
      ]
     },
     "metadata": {
      "needs_background": "light"
     },
     "output_type": "display_data"
    }
   ],
   "source": [
    "from sklearn import preprocessing\n",
    "import matplotlib.pyplot as plt\n",
    "\n",
    "quantile_transf_norm =  preprocessing.QuantileTransformer(output_distribution= 'normal')\n",
    "quantile_transf_uniform =  preprocessing.QuantileTransformer(output_distribution= 'uniform')\n",
    "\n",
    "data_to_transform = X_train['malic_acid'].values.reshape(-1,1)\n",
    "transformed_data_normal =  quantile_transf_norm.fit_transform(data_to_transform)\n",
    "transformed_data_uniform =  quantile_transf_uniform.fit_transform(data_to_transform)\n",
    "\n",
    "# Create plots\n",
    "fig, axs = plt.subplots(3)\n",
    "\n",
    "axs[0].hist(X_train['malic_acid'].values)\n",
    "axs[1].hist(transformed_data_normal)\n",
    "axs[2].hist(transformed_data_uniform)"
   ]
  },
  {
   "cell_type": "code",
   "execution_count": 11,
   "id": "655c8111",
   "metadata": {},
   "outputs": [
    {
     "name": "stdout",
     "output_type": "stream",
     "text": [
      "Standardized data has SD of 1.0 and mean of -0.0\n",
      "Normalized data has Min of 0.0 and max of 1.0\n"
     ]
    }
   ],
   "source": [
    "# Create the scaler\n",
    "stand_scale = preprocessing.StandardScaler()\n",
    "normal_scale = preprocessing.MinMaxScaler()\n",
    "\n",
    "# Fit the scaler\n",
    "stand_scale_fit = stand_scale.fit(X_train)\n",
    "normal_scale_fit = normal_scale.fit(X_train)\n",
    "\n",
    "# Apply the scaler to train\n",
    "X_train_scale = stand_scale_fit.transform(X_train)\n",
    "X_train_norm = normal_scale_fit.transform(X_train)\n",
    "\n",
    "# Apply the scaler to test\n",
    "X_test_scale = stand_scale_fit.transform(X_test)\n",
    "X_test_norm = normal_scale_fit.transform(X_test)\n",
    "\n",
    "# Convert data to DataFrame\n",
    "X_train_scale = pd.DataFrame(X_train_scale, columns = data_na.columns)\n",
    "X_train_norm = pd.DataFrame(X_train_norm, columns = data_na.columns)\n",
    "\n",
    "# Check Standardization\n",
    "standard_sd =  X_train_scale['malic_acid'].std()\n",
    "standard_mean = X_train_scale['malic_acid'].mean()\n",
    "normalized_min =  X_train_norm['malic_acid'].min()\n",
    "normalized_max = X_train_norm['malic_acid'].max()\n",
    "\n",
    "print(f'Standardized data has SD of {np.round(standard_sd)} and mean of {np.round(standard_mean)}')\n",
    "print(f'Normalized data has Min of {normalized_min} and max of {normalized_max}')"
   ]
  },
  {
   "cell_type": "code",
   "execution_count": 12,
   "id": "48148731",
   "metadata": {},
   "outputs": [
    {
     "data": {
      "text/plain": [
       "array(['USA', 'Australia', 'UK', 'UK', 'USA', 'Australia', 'USA', 'UK',\n",
       "       'UK', 'UK', 'Australia'], dtype='<U9')"
      ]
     },
     "execution_count": 12,
     "metadata": {},
     "output_type": "execute_result"
    }
   ],
   "source": [
    "label = np.array(['USA','Australia', 'UK', 'UK','USA','Australia','USA',\n",
    "                  'UK', 'UK','UK','Australia'])\n",
    "\n",
    "label"
   ]
  },
  {
   "cell_type": "code",
   "execution_count": 13,
   "id": "189256d8",
   "metadata": {},
   "outputs": [
    {
     "data": {
      "text/plain": [
       "array([[0., 1.],\n",
       "       [0., 0.],\n",
       "       [1., 0.],\n",
       "       [1., 0.],\n",
       "       [0., 1.],\n",
       "       [0., 0.],\n",
       "       [0., 1.],\n",
       "       [1., 0.],\n",
       "       [1., 0.],\n",
       "       [1., 0.],\n",
       "       [0., 0.]])"
      ]
     },
     "execution_count": 13,
     "metadata": {},
     "output_type": "execute_result"
    }
   ],
   "source": [
    "from sklearn.preprocessing import OneHotEncoder\n",
    "\n",
    "# Create encoder\n",
    "ohencoder = OneHotEncoder(drop='first')\n",
    "\n",
    "# Fit the encoder\n",
    "ohencoder_fit = ohencoder.fit(label.reshape(-1,1))\n",
    "\n",
    "# Transform the data\n",
    "ohencoder_fit.transform(label.reshape(-1,1)).toarray()"
   ]
  },
  {
   "cell_type": "code",
   "execution_count": 14,
   "id": "b6894a1c",
   "metadata": {},
   "outputs": [
    {
     "name": "stdout",
     "output_type": "stream",
     "text": [
      "Logistic Regression predictions [1 1 1 0 0]\n",
      "Random Forest predictions [1 1 1 1 2]\n"
     ]
    }
   ],
   "source": [
    "from sklearn.linear_model import LogisticRegression\n",
    "from sklearn.ensemble import RandomForestClassifier\n",
    "\n",
    "\n",
    "## -- Logistic Regression -- ##\n",
    "\n",
    "# Create the model\n",
    "log_reg = LogisticRegression(penalty = 'none')\n",
    "\n",
    "# Train the model\n",
    "log_reg_fit = log_reg.fit(X_train, y_train)\n",
    "\n",
    "# Make prediction\n",
    "y_pred_log_reg = log_reg_fit.predict(X_test)\n",
    "\n",
    "\n",
    "## -- Random Forest -- ##\n",
    "\n",
    "# Create the model\n",
    "rf_class = RandomForestClassifier()\n",
    "\n",
    "# Train the model\n",
    "rf_class_fit = rf_class.fit(X_train, y_train)\n",
    "\n",
    "# Make prediction\n",
    "y_pred_rf_class = rf_class_fit.predict(X_test)\n",
    "\n",
    "print(f'Logistic Regression predictions {y_pred_log_reg[:5]}')\n",
    "print(f'Random Forest predictions {y_pred_rf_class[:5]}')"
   ]
  },
  {
   "cell_type": "code",
   "execution_count": null,
   "id": "ac9e1971",
   "metadata": {},
   "outputs": [],
   "source": [
    "from sklearn.metrics import confusion_matrix, precision_score, recall_score, accuracy_score\n",
    "\n",
    "print('##-- Logistic Regression --## ')\n",
    "print(f'Acuraccy: {accuracy_score(y_test, y_pred_log_reg)}')\n",
    "print(f'Precision: {precision_score(y_test, y_pred_log_reg, average=\"macro\")}')\n",
    "print(f'Recall: {recall_score(y_test, y_pred_log_reg, average=\"macro\")}')\n",
    "print(confusion_matrix(y_test, y_pred_log_reg))\n",
    "\n",
    "\n",
    "print('\\n##-- Random Forest --## ')\n",
    "print(f'Acuraccy: {accuracy_score(y_test, y_pred_rf_class)}')\n",
    "print(f'Precision: {precision_score(y_test, y_pred_rf_class, average=\"macro\")}')\n",
    "print(f'Recall: {recall_score(y_test, y_pred_rf_class, average=\"macro\")}')\n",
    "print(confusion_matrix(y_test, y_pred_rf_class))"
   ]
  },
  {
   "cell_type": "code",
   "execution_count": null,
   "id": "422ac4bf",
   "metadata": {},
   "outputs": [],
   "source": []
  },
  {
   "cell_type": "code",
   "execution_count": null,
   "id": "d891f475",
   "metadata": {},
   "outputs": [],
   "source": []
  },
  {
   "cell_type": "code",
   "execution_count": null,
   "id": "fcedf0c5",
   "metadata": {},
   "outputs": [],
   "source": []
  }
 ],
 "metadata": {
  "kernelspec": {
   "display_name": "Python 3 (ipykernel)",
   "language": "python",
   "name": "python3"
  },
  "language_info": {
   "codemirror_mode": {
    "name": "ipython",
    "version": 3
   },
   "file_extension": ".py",
   "mimetype": "text/x-python",
   "name": "python",
   "nbconvert_exporter": "python",
   "pygments_lexer": "ipython3",
   "version": "3.9.7"
  }
 },
 "nbformat": 4,
 "nbformat_minor": 5
}
